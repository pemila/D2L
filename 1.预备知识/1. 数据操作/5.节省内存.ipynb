{
 "cells": [
  {
   "cell_type": "markdown",
   "metadata": {},
   "source": [
    "运行一些操作可能导致为新结果分配内存，例如使用`Y = X + Y`，将取消引用`Y`指向的张量，重新指向新分配内存处的张量。"
   ]
  },
  {
   "cell_type": "code",
   "execution_count": null,
   "metadata": {},
   "outputs": [],
   "source": [
    "import torch\n",
    "\n",
    "X = torch.arange(12,dtype=torch.float32).reshape((3,4))\n",
    "Y = torch.tensor([[2.0, 1, 4, 3], [1, 2, 3, 4], [4, 3, 2, 1]])\n",
    "\n",
    "X, Y"
   ]
  },
  {
   "cell_type": "markdown",
   "metadata": {},
   "source": [
    "Python的`id()`函数可以演示内存重新分配的过程，如下所示："
   ]
  },
  {
   "cell_type": "code",
   "execution_count": null,
   "metadata": {},
   "outputs": [],
   "source": [
    "before = id(Y)\n",
    "print(before)\n",
    "\n",
    "Y = X + Y\n",
    "\n",
    "after = id(Y)\n",
    "print(after)\n",
    "\n",
    "before == after"
   ]
  },
  {
   "cell_type": "markdown",
   "metadata": {},
   "source": [
    "如上所示，运算前后的内存指向不同，说明在运算过程中重新向`Y`分配了内存地址。\n",
    "\n",
    "大部分时候内存地址的重新分配都是不可接受的：\n",
    "1. 在机器学习中，可能有数百兆甚至更多的参数，并且在一秒内多次更新所有参数，频繁的内存重新分配会造成极大的性能浪费。\n",
    "2. 如果不原地更新某些参数，其他引用仍然会指向旧的内存位置，这样某些代码可能会无意中引用旧的参数。"
   ]
  },
  {
   "cell_type": "markdown",
   "metadata": {},
   "source": [
    "可以通过切片表示法将操作的结果分配给先前分配的变量，例如 `Y[:] = <expression>`："
   ]
  },
  {
   "cell_type": "code",
   "execution_count": null,
   "metadata": {},
   "outputs": [],
   "source": [
    "Z = torch.zeros_like(Y)\n",
    "print('id(Z) before : ', id(Z))\n",
    "\n",
    "Z[:] = X + Y\n",
    "print('id(Z)  after : ', id(Z))"
   ]
  },
  {
   "cell_type": "markdown",
   "metadata": {},
   "source": [
    "如果在后续的计算中没有重复使用`X`，也可以使用`X[:] = X + Y` 或 `X += Y` 来减少操作的内存开销："
   ]
  },
  {
   "cell_type": "code",
   "execution_count": null,
   "metadata": {},
   "outputs": [],
   "source": [
    "before = id(X)\n",
    "\n",
    "X += Y\n",
    "\n",
    "after = id(X)\n",
    "\n",
    "print(before)\n",
    "print(after)"
   ]
  }
 ],
 "metadata": {
  "kernelspec": {
   "display_name": "Python 3",
   "language": "python",
   "name": "python3"
  },
  "language_info": {
   "codemirror_mode": {
    "name": "ipython",
    "version": 3
   },
   "file_extension": ".py",
   "mimetype": "text/x-python",
   "name": "python",
   "nbconvert_exporter": "python",
   "pygments_lexer": "ipython3",
   "version": "3.11.4"
  }
 },
 "nbformat": 4,
 "nbformat_minor": 2
}
