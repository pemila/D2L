{
 "cells": [
  {
   "cell_type": "markdown",
   "metadata": {},
   "source": [
    "形状相同的两个张量可以按元素执行运算，某些情况下，可以通过调用**广播机制（broadcasting mechanism）**来执行按元素操作。\n",
    "\n",
    "广播机制的工作方式如下：\n",
    "1. 通过适当赋值元素来扩展一个或两个数组，以便在转换之后两个张量具有相同的形状。\n",
    "2. 对生成的数组执行按元素操作。"
   ]
  },
  {
   "cell_type": "code",
   "execution_count": null,
   "metadata": {},
   "outputs": [],
   "source": [
    "import torch"
   ]
  },
  {
   "cell_type": "markdown",
   "metadata": {},
   "source": [
    "如下所示，沿数组中长度为1的轴进行广播，如下`a`、`b`两个张量："
   ]
  },
  {
   "cell_type": "code",
   "execution_count": null,
   "metadata": {},
   "outputs": [],
   "source": [
    "a = torch.arange(3).reshape((3,1))\n",
    "b = torch.arange(2).reshape((1,2))\n",
    "a,b"
   ]
  },
  {
   "cell_type": "markdown",
   "metadata": {},
   "source": [
    "由于a和b分别是 3 * 1 和 1 * 2 的矩阵，如果两者相加，它们形状不匹配，因此需要将两个矩阵*广播*为一个更大的 3 * 2 矩阵。\n",
    "\n",
    "如下，相加过程中，矩阵a将复制列，矩阵b将复制行，然后按照元素相加："
   ]
  },
  {
   "cell_type": "code",
   "execution_count": null,
   "metadata": {},
   "outputs": [],
   "source": [
    "a + b"
   ]
  }
 ],
 "metadata": {
  "kernelspec": {
   "display_name": "Python 3",
   "language": "python",
   "name": "python3"
  },
  "language_info": {
   "codemirror_mode": {
    "name": "ipython",
    "version": 3
   },
   "file_extension": ".py",
   "mimetype": "text/x-python",
   "name": "python",
   "nbconvert_exporter": "python",
   "pygments_lexer": "ipython3",
   "version": "3.11.4"
  }
 },
 "nbformat": 4,
 "nbformat_minor": 2
}
