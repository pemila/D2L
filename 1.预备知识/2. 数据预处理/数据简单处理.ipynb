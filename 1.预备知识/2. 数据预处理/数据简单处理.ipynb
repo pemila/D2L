{
 "cells": [
  {
   "cell_type": "markdown",
   "metadata": {},
   "source": [
    "### 准备数据集\n",
    "创建一个人工数据集，并存储在csv文件 `../data/house_tiny.csv` 中："
   ]
  },
  {
   "cell_type": "code",
   "execution_count": null,
   "metadata": {},
   "outputs": [],
   "source": [
    "import os \n",
    "\n",
    "os.makedirs(os.path.join('data'), exist_ok=True)\n",
    "\n",
    "data_file = os.path.join('data', 'house_tiny.csv')\n",
    "\n",
    "with open(data_file,'w') as f:\n",
    "    f.write('NumRooms,Alley,Price\\n',) # 列名\n",
    "    f.write('NA,Pave,127500\\n') # 每行一个数据样本\n",
    "    f.write('2,NA,106000\\n')\n",
    "    f.write('4,NA,178100\\n')\n",
    "    f.write('NA,NA,140000\\n')"
   ]
  },
  {
   "cell_type": "markdown",
   "metadata": {},
   "source": [
    "### 数据加载"
   ]
  },
  {
   "cell_type": "code",
   "execution_count": null,
   "metadata": {},
   "outputs": [],
   "source": [
    "import pandas as pd\n",
    "\n",
    "data = pd.read_csv(data_file)\n",
    "\n",
    "print(data)"
   ]
  },
  {
   "cell_type": "markdown",
   "metadata": {},
   "source": [
    "### 处理缺失值\n",
    "`NaN`项表示数据的缺失值，处理缺失值的方法包括插值法和删除法\n",
    "- 插值法：使用一个替代值弥补缺失值。\n",
    "- 删除法：忽略掉缺失值。\n",
    "\n",
    "使用插值法处理上述数据集，将数据集分为inputs和outputs，其中inputs为data的前两列，outputs为data的最后一列。\n",
    "\n",
    "对于inputs中缺少的值，使用同一列的均指替换`NaN`项。"
   ]
  },
  {
   "cell_type": "code",
   "execution_count": null,
   "metadata": {},
   "outputs": [],
   "source": [
    "inputs, outputs = data.iloc[:,0:2], data.iloc[:,2]\n",
    "\n",
    "inputs = inputs.fillna(inputs.mean(numeric_only = True))\n",
    "\n",
    "print(inputs)"
   ]
  },
  {
   "cell_type": "markdown",
   "metadata": {},
   "source": [
    "对于inputs中的类别值或离散值，可以将`NaN`视为一个类别。由于`Alley`列只接受两种类型的类别值`Pave`和`NaN`，pandas可以自动将此列转为两列`Alley_Pave` 和 `Alley_nan`。巷子类型为`Pave`的行会将`Alley_Pave`的值设置为1，`Alley_nan`的值设置为0。 缺少巷子类型的行会将`Alley_Pave`和`Alley_nan`分别设置为0和1。"
   ]
  },
  {
   "cell_type": "code",
   "execution_count": null,
   "metadata": {},
   "outputs": [],
   "source": [
    "inputs = pd.get_dummies(inputs,dummy_na=True,dtype=int)\n",
    "\n",
    "print(inputs)"
   ]
  },
  {
   "cell_type": "markdown",
   "metadata": {},
   "source": [
    "### 转换为张量格式\n",
    "经过上面的处理后，`inputs`和`outputs`中的所有条目都成为了数值类型，我们可以将其转换为张量格式："
   ]
  },
  {
   "cell_type": "code",
   "execution_count": null,
   "metadata": {},
   "outputs": [],
   "source": [
    "import torch\n",
    "\n",
    "X = torch.tensor(inputs.to_numpy(dtype=float))\n",
    "Y = torch.tensor(outputs.to_numpy(dtype=float))\n",
    "\n",
    "X, Y"
   ]
  }
 ],
 "metadata": {
  "kernelspec": {
   "display_name": "Python 3",
   "language": "python",
   "name": "python3"
  },
  "language_info": {
   "codemirror_mode": {
    "name": "ipython",
    "version": 3
   },
   "file_extension": ".py",
   "mimetype": "text/x-python",
   "name": "python",
   "nbconvert_exporter": "python",
   "pygments_lexer": "ipython3",
   "version": "3.11.4"
  }
 },
 "nbformat": 4,
 "nbformat_minor": 2
}
