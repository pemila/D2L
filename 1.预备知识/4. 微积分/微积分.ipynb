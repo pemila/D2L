{
 "cells": [
  {
   "cell_type": "markdown",
   "metadata": {},
   "source": [
    "### 导数和微分"
   ]
  },
  {
   "cell_type": "markdown",
   "metadata": {},
   "source": [
    "导数的计算是几乎所有深度学习优化算法的关键步骤。在深度学习中，通常选择对于模型参数可微的损失函数。"
   ]
  },
  {
   "cell_type": "markdown",
   "metadata": {},
   "source": [
    "对于每个参数，如果我们把这个参数增加或减少一个无穷小的量，可以知道损失会以多快的速度增加或减少，\n",
    "\n",
    "假设有函数$f:R \\rightarrow R$，其输出和输入都是标量。如果$f$的导数存在，这个极限被定义为：\n",
    "$$\n",
    "f'(x) - \\lim_{h\\rightarrow0} \\frac{f(x+h)-f(x)}{h}  \\tag{1}\n",
    "$$"
   ]
  },
  {
   "cell_type": "markdown",
   "metadata": {},
   "source": [
    "如果$f'(a)$存在，则称$f$在`a`处是*可微*（differentiable）的。如果$f$在一个区间内的每个数上都是可微的，则此函数在此区间中是可微的。\n",
    "\n",
    "[公式（1）]()中的导数$f'(x)$解释为$f(x)$相对于`x`的瞬时（instantaneous）变化率。"
   ]
  },
  {
   "cell_type": "markdown",
   "metadata": {},
   "source": [
    "定义 $ u = f(x) = 3x^2 - 4x $："
   ]
  },
  {
   "cell_type": "code",
   "execution_count": null,
   "metadata": {},
   "outputs": [],
   "source": [
    "import numpy as np \n",
    "from matplotlib_inline import backend_inline\n",
    "\n",
    "def f(x):\n",
    "    return 3 * x ** 2 - 4 * x"
   ]
  },
  {
   "cell_type": "markdown",
   "metadata": {},
   "source": [
    "通过令$x=1$并让`h`接近0，[公式（1）]()中$\\frac{f(x+h)-f(x)}{h}$的数值结果接近2。"
   ]
  },
  {
   "cell_type": "code",
   "execution_count": null,
   "metadata": {},
   "outputs": [],
   "source": [
    "def numerical_lim(f, x, h):\n",
    "    return (f(x+h) -f(x)) / h\n",
    "\n",
    "h = 0.1\n",
    "for i in range(5):\n",
    "    print(f'h = {h:.5f}, numerical_limit = {numerical_lim(f, 1, h): .5f}')\n",
    "    h *= 0.1\n"
   ]
  },
  {
   "cell_type": "markdown",
   "metadata": {},
   "source": [
    "给定$y = f(x)$, 其中 `x` `y` 分别是函数$f$的自变量和因变量，如下表达式是等价的：\n",
    "$$\n",
    "f'(x) = y' = \\frac{dy}{dx} = \\frac{df}{dx} = \\frac{d}{dx} f(x) = Df(x) = D_xf(x)   \\tag{2}\n",
    "$$\n",
    "\n",
    "其中符号$\\frac{d}{dx}$和$D$是*微分运算符*，表示*微分*操作。\n",
    "\n",
    "可以使用如下规则来对常见函数求微分：\n",
    "- $DC = 0$ (*C* 是一个常数)\n",
    "- $Dx^n = nx^{x-1}$ (*幂律*（power rule）, n 是任意实数)\n",
    "- $De^x = e^x$\n",
    "- $Dln(x) = 1/x$"
   ]
  },
  {
   "cell_type": "markdown",
   "metadata": {},
   "source": []
  }
 ],
 "metadata": {
  "kernelspec": {
   "display_name": "Python 3",
   "language": "python",
   "name": "python3"
  },
  "language_info": {
   "codemirror_mode": {
    "name": "ipython",
    "version": 3
   },
   "file_extension": ".py",
   "mimetype": "text/x-python",
   "name": "python",
   "nbconvert_exporter": "python",
   "pygments_lexer": "ipython3",
   "version": "3.11.4"
  }
 },
 "nbformat": 4,
 "nbformat_minor": 2
}
